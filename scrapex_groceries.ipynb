{
 "cells": [
  {
   "cell_type": "markdown",
   "metadata": {},
   "source": [
    "# Let's Fetch **The Price of Daily Essentials in India Today**"
   ]
  },
  {
   "cell_type": "code",
   "execution_count": 18,
   "metadata": {},
   "outputs": [],
   "source": [
    "import pandas as pd\n",
    "import json, time, random\n",
    "from datetime import datetime\n",
    "from pathlib import Path\n",
    "\n",
    "from selenium import webdriver\n",
    "from selenium.webdriver.common.by import By\n",
    "from selenium.webdriver.chrome.options import Options"
   ]
  },
  {
   "cell_type": "code",
   "execution_count": 19,
   "metadata": {},
   "outputs": [],
   "source": [
    "chrome_options = Options()\n",
    "chrome_options.add_argument(\"--headless\")\n",
    "chrome_options.add_argument(\"--no-sandbox\")\n",
    "chrome_options.add_argument(\"--disable-dev-shm-usage\")\n",
    "chrome_options.add_argument(\"--user-agent=Mozilla/5.0 (Macintosh; Intel Mac OS X 10_15_7) AppleWebKit/537.36 (KHTML, like Gecko) Chrome/120.0.0.0 Safari/537.36\")\n",
    "\n",
    "driver = webdriver.Chrome(options=chrome_options)"
   ]
  },
  {
   "cell_type": "code",
   "execution_count": 20,
   "metadata": {},
   "outputs": [
    {
     "name": "stdout",
     "output_type": "stream",
     "text": [
      "[1/7] Processing: https://www.bigbasket.com/pd/40161155/farm-made-free-range-eggs-24-pcs/\n",
      "[2/7] Processing: https://www.bigbasket.com/pd/40001002/surf-excel-quick-wash-detergent-powder-2-kg/\n",
      "[3/7] Processing: https://www.bigbasket.com/pd/271205/id-fresho-idly-dosa-batter-1-kg/\n",
      "[4/7] Processing: https://www.bigbasket.com/pd/30003294/id-fresho-malabar-parotaparatha-350-g-pouch/\n",
      "[5/7] Processing: https://www.bigbasket.com/pd/40092421/kelloggs-corn-flakes-with-real-almond-honey-1-kg/\n",
      "[6/7] Processing: https://www.bigbasket.com/pd/30008323/gillette-fusion-power-shaving-razor-blades-cartridge-8-pcs/\n",
      "[7/7] Processing: https://www.bigbasket.com/pd/10001001/fresho-chicken-breast-boneless-antibiotic-residue-free-1-kg/\n"
     ]
    }
   ],
   "source": [
    "source_urls = \"sources.csv\"\n",
    "\n",
    "urls = []\n",
    "with open(source_urls, 'r') as file:\n",
    "    urls = [url.strip() for url in file if url.strip()]\n",
    "    urls = [url.split('?')[0] for url in urls]\n",
    "    seen = set()\n",
    "    urls = [url for url in urls if not (url in seen or seen.add(url))]\n",
    "\n",
    "df_products = []\n",
    "current_date = datetime.now().strftime(\"%Y-%m-%d\")\n",
    "\n",
    "for i, url in enumerate(urls, 1):\n",
    "    try:\n",
    "        print(f\"[{i}/{len(urls)}] Processing: {url}\")\n",
    "        driver.get(url)\n",
    "        \n",
    "        # Random sleep between 0.5 and 3.0 seconds, rounded to 1 decimal place\n",
    "        sleep_time = round(random.uniform(0.5, 3.0), 1)\n",
    "        time.sleep(sleep_time)\n",
    "\n",
    "        jace = driver.find_element(By.ID, \"__NEXT_DATA__\").get_attribute(\"innerHTML\")\n",
    "        jace_data = json.loads(jace)['props']['pageProps']['productDetails']['children'][0]\n",
    "\n",
    "        product = {\n",
    "            \"Date\": current_date,\n",
    "            \"Category\": jace_data['category']['tlc_name'],\n",
    "            \"Brand\": jace_data['brand']['name'],\n",
    "            \"Product\": jace_data['desc'],\n",
    "            \"Quantity\": jace_data['w'],\n",
    "            \"Price-MRP\": float(jace_data['pricing']['discount']['mrp']),\n",
    "            \"Price\": float(jace_data['pricing']['discount']['prim_price']['sp'])\n",
    "        }\n",
    "\n",
    "        df_products.append(product)\n",
    "\n",
    "    except Exception as e:\n",
    "        print(f\"Error processing URL {url}: {str(e)}\\n\")\n",
    "\n",
    "driver.quit()"
   ]
  },
  {
   "cell_type": "code",
   "execution_count": 22,
   "metadata": {},
   "outputs": [],
   "source": [
    "df_products = pd.DataFrame(df_products)\n",
    "df_products['Units'] = df_products['Quantity'].str.split().str[-1]\n",
    "df_products['Quantity'] = df_products['Quantity'].str.split().str[0]\n",
    "df_products = df_products[['Date', 'Category', 'Brand', 'Product', 'Quantity', 'Units', 'Price']]"
   ]
  },
  {
   "cell_type": "code",
   "execution_count": 23,
   "metadata": {},
   "outputs": [
    {
     "name": "stdout",
     "output_type": "stream",
     "text": [
      "\n",
      "Prices of Daily Essentials: \n",
      " --------------------------------------------------\n"
     ]
    },
    {
     "data": {
      "text/html": [
       "<div>\n",
       "<style scoped>\n",
       "    .dataframe tbody tr th:only-of-type {\n",
       "        vertical-align: middle;\n",
       "    }\n",
       "\n",
       "    .dataframe tbody tr th {\n",
       "        vertical-align: top;\n",
       "    }\n",
       "\n",
       "    .dataframe thead th {\n",
       "        text-align: right;\n",
       "    }\n",
       "</style>\n",
       "<table border=\"1\" class=\"dataframe\">\n",
       "  <thead>\n",
       "    <tr style=\"text-align: right;\">\n",
       "      <th></th>\n",
       "      <th>Date</th>\n",
       "      <th>Category</th>\n",
       "      <th>Brand</th>\n",
       "      <th>Product</th>\n",
       "      <th>Quantity</th>\n",
       "      <th>Units</th>\n",
       "      <th>Price</th>\n",
       "    </tr>\n",
       "  </thead>\n",
       "  <tbody>\n",
       "    <tr>\n",
       "      <th>0</th>\n",
       "      <td>2025-07-26</td>\n",
       "      <td>Eggs, Meat &amp; Fish</td>\n",
       "      <td>Farm Made</td>\n",
       "      <td>Free Range Eggs</td>\n",
       "      <td>24</td>\n",
       "      <td>pcs</td>\n",
       "      <td>540.55</td>\n",
       "    </tr>\n",
       "    <tr>\n",
       "      <th>1</th>\n",
       "      <td>2025-07-26</td>\n",
       "      <td>Cleaning &amp; Household</td>\n",
       "      <td>Surf Excel</td>\n",
       "      <td>Quick Wash Detergent Powder</td>\n",
       "      <td>2</td>\n",
       "      <td>kg</td>\n",
       "      <td>420.00</td>\n",
       "    </tr>\n",
       "    <tr>\n",
       "      <th>2</th>\n",
       "      <td>2025-07-26</td>\n",
       "      <td>Snacks &amp; Branded Foods</td>\n",
       "      <td>iD fresho!</td>\n",
       "      <td>Idly &amp; Dosa Batter</td>\n",
       "      <td>1</td>\n",
       "      <td>kg</td>\n",
       "      <td>99.00</td>\n",
       "    </tr>\n",
       "    <tr>\n",
       "      <th>3</th>\n",
       "      <td>2025-07-26</td>\n",
       "      <td>Snacks &amp; Branded Foods</td>\n",
       "      <td>iD fresho!</td>\n",
       "      <td>Malabar Parota - No Added Preservatives</td>\n",
       "      <td>400</td>\n",
       "      <td>g</td>\n",
       "      <td>108.90</td>\n",
       "    </tr>\n",
       "    <tr>\n",
       "      <th>4</th>\n",
       "      <td>2025-07-26</td>\n",
       "      <td>Snacks &amp; Branded Foods</td>\n",
       "      <td>Kellogg's</td>\n",
       "      <td>Corn Flakes - With Real Almond &amp; Honey</td>\n",
       "      <td>1</td>\n",
       "      <td>kg</td>\n",
       "      <td>395.57</td>\n",
       "    </tr>\n",
       "    <tr>\n",
       "      <th>5</th>\n",
       "      <td>2025-07-26</td>\n",
       "      <td>Beauty &amp; Hygiene</td>\n",
       "      <td>Gillette</td>\n",
       "      <td>Fusion Power Blades for men  Perfect Shave and...</td>\n",
       "      <td>8</td>\n",
       "      <td>pcs</td>\n",
       "      <td>2231.00</td>\n",
       "    </tr>\n",
       "    <tr>\n",
       "      <th>6</th>\n",
       "      <td>2025-07-26</td>\n",
       "      <td>Eggs, Meat &amp; Fish</td>\n",
       "      <td>fresho!</td>\n",
       "      <td>Chicken Breast Boneless</td>\n",
       "      <td>1</td>\n",
       "      <td>kg</td>\n",
       "      <td>469.00</td>\n",
       "    </tr>\n",
       "  </tbody>\n",
       "</table>\n",
       "</div>"
      ],
      "text/plain": [
       "         Date                Category       Brand  \\\n",
       "0  2025-07-26       Eggs, Meat & Fish   Farm Made   \n",
       "1  2025-07-26    Cleaning & Household  Surf Excel   \n",
       "2  2025-07-26  Snacks & Branded Foods  iD fresho!   \n",
       "3  2025-07-26  Snacks & Branded Foods  iD fresho!   \n",
       "4  2025-07-26  Snacks & Branded Foods   Kellogg's   \n",
       "5  2025-07-26        Beauty & Hygiene    Gillette   \n",
       "6  2025-07-26       Eggs, Meat & Fish     fresho!   \n",
       "\n",
       "                                             Product Quantity Units    Price  \n",
       "0                                    Free Range Eggs       24   pcs   540.55  \n",
       "1                        Quick Wash Detergent Powder        2    kg   420.00  \n",
       "2                                 Idly & Dosa Batter        1    kg    99.00  \n",
       "3            Malabar Parota - No Added Preservatives      400     g   108.90  \n",
       "4             Corn Flakes - With Real Almond & Honey        1    kg   395.57  \n",
       "5  Fusion Power Blades for men  Perfect Shave and...        8   pcs  2231.00  \n",
       "6                            Chicken Breast Boneless        1    kg   469.00  "
      ]
     },
     "metadata": {},
     "output_type": "display_data"
    }
   ],
   "source": [
    "print(\"\\nPrices of Daily Essentials:\", \"\\n\", \"-\"*50)\n",
    "display(df_products)"
   ]
  }
 ],
 "metadata": {
  "kernelspec": {
   "display_name": "labo",
   "language": "python",
   "name": "python3"
  },
  "language_info": {
   "codemirror_mode": {
    "name": "ipython",
    "version": 3
   },
   "file_extension": ".py",
   "mimetype": "text/x-python",
   "name": "python",
   "nbconvert_exporter": "python",
   "pygments_lexer": "ipython3",
   "version": "3.11.11"
  }
 },
 "nbformat": 4,
 "nbformat_minor": 2
}
