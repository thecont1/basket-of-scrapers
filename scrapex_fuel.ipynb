{
 "cells": [
  {
   "cell_type": "markdown",
   "id": "b50f3e53",
   "metadata": {},
   "source": [
    "# Let's Fetch **The Price of Gas in India**"
   ]
  },
  {
   "cell_type": "code",
   "execution_count": null,
   "id": "d526932b",
   "metadata": {},
   "outputs": [],
   "source": [
    "import pandas as pd\n",
    "from selenium import webdriver\n",
    "from selenium.webdriver.common.by import By\n",
    "from selenium.webdriver.chrome.options import Options\n",
    "from pathlib import Path\n",
    "from datetime import datetime\n",
    "import time\n",
    "\n",
    "fuels = ['petrol', 'diesel', 'lpg', 'cng']\n",
    "source_page = lambda fuel: f\"https://www.goodreturns.in/{fuel}-price.html\""
   ]
  },
  {
   "cell_type": "code",
   "execution_count": null,
   "id": "9f5adadf",
   "metadata": {},
   "outputs": [],
   "source": [
    "# Selenium options required to create a 'headless' browser\n",
    "options = Options()\n",
    "options.add_argument(\"--blink-settings=imagesEnabled=false\")\n",
    "options.add_argument(\"--headless=new\")\n",
    "options.add_argument(\"--disable-gpu\")\n",
    "options.add_argument(\"--no-sandbox\")\n",
    "options.add_argument(\"user-agent=Mozilla/5.0 (Windows NT 10.0; Win64; x64) AppleWebKit/537.36 (KHTML, like Gecko) Chrome/110.0.5481.77 Safari/537.37\")\n",
    "\n",
    "driver = webdriver.Chrome(options=options)"
   ]
  },
  {
   "cell_type": "code",
   "execution_count": null,
   "id": "b02e8ae0",
   "metadata": {},
   "outputs": [],
   "source": [
    "def city_price(result):\n",
    "    city = result.split('₹')\n",
    "    price = city[1].split(' ')[0]\n",
    "    city = city[0].strip()\n",
    "    return city, price\n",
    "\n",
    "fuel_prices = {}\n",
    "\n",
    "for fuel in fuels:\n",
    "    driver.get(source_page(fuel))\n",
    "    # time.sleep(5)  # Allow extra time for JavaScript to load\n",
    "    results = driver.find_element(By.CLASS_NAME, \"gd-fuel-table-block\")\n",
    "    results = results.text.split(\"\\n\")[2:]\n",
    "\n",
    "    fuel_prices[fuel] = {}\n",
    "    for result in results:\n",
    "        city, price = city_price(result)\n",
    "        fuel_prices[fuel][city] = price\n"
   ]
  },
  {
   "cell_type": "code",
   "execution_count": null,
   "id": "67c5446b",
   "metadata": {},
   "outputs": [],
   "source": [
    "fuel = 'diesel'\n",
    "\n",
    "data = fuel_prices[fuel.lower()]\n",
    "df = pd.DataFrame(data.items(), columns=[\"City\", \"Price\"])\n",
    "df['Price'] = df['Price'].astype(float)\n",
    "df = df.sort_values(by='Price', ascending=False)\n",
    "df = df.reset_index(drop=True)\n",
    "\n",
    "print(f\"{fuel.upper()} PRICES AS ON {datetime.now().strftime('%d %B %Y')}\")\n",
    "print(f\"Source: {source_page(fuel)}\")\n",
    "print(\"-\" * 35)\n",
    "display(df)\n"
   ]
  }
 ],
 "metadata": {
  "kernelspec": {
   "display_name": "labo",
   "language": "python",
   "name": "python3"
  },
  "language_info": {
   "codemirror_mode": {
    "name": "ipython",
    "version": 3
   },
   "file_extension": ".py",
   "mimetype": "text/x-python",
   "name": "python",
   "nbconvert_exporter": "python",
   "pygments_lexer": "ipython3",
   "version": "3.11.11"
  }
 },
 "nbformat": 4,
 "nbformat_minor": 5
}
